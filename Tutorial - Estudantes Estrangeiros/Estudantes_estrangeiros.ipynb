{
 "cells": [
  {
   "cell_type": "markdown",
   "metadata": {},
   "source": [
    "# Estudantes Estrangeiros na Cidade de São Paulo"
   ]
  },
  {
   "cell_type": "markdown",
   "metadata": {},
   "source": [
    "Neste tutorial, realizamos operações básicas para explorar a base de microdados de matrículas e filtrar uma das informações mais demandadas via Lei de Acesso à Informação: alunos estrangeiros, por nacionalidade, modalidade de ensino, idade etc. \n",
    "\n",
    "[Saiba mais](https://github.com/prefeiturasp/dados-educacao/blob/master/README.md) sobre os tutoriais dos dados abertos da SME.\n",
    "\n",
    "Importante: também estamos aprendendo! Tem sugestões para melhorar os códigos? Não deixe de contribuir com este repositório :)"
   ]
  },
  {
   "cell_type": "markdown",
   "metadata": {},
   "source": [
    "## Passo 1: Importando os dados"
   ]
  },
  {
   "cell_type": "code",
   "execution_count": 2,
   "metadata": {
    "collapsed": true
   },
   "outputs": [],
   "source": [
    "import pandas as pd\n",
    "import numpy as np\n",
    "import pandas_profiling as pp"
   ]
  },
  {
   "cell_type": "markdown",
   "metadata": {},
   "source": [
    "Importar o arquivo .csv disponível no Portal de Dados Abertos, já descompactado (a última série de microdados disponível):"
   ]
  },
  {
   "cell_type": "code",
   "execution_count": 3,
   "metadata": {
    "collapsed": true
   },
   "outputs": [],
   "source": [
    "df_2016 = pd.read_csv('Microdados_EOL_Matriculas_2016.csv', sep=';', encoding='ISO-8859-1', low_memory=False)"
   ]
  },
  {
   "cell_type": "markdown",
   "metadata": {},
   "source": [
    "## Passo 2: Conhecendo os dados"
   ]
  },
  {
   "cell_type": "code",
   "execution_count": 4,
   "metadata": {
    "scrolled": true
   },
   "outputs": [
    {
     "data": {
      "text/html": [
       "<div>\n",
       "<style>\n",
       "    .dataframe thead tr:only-child th {\n",
       "        text-align: right;\n",
       "    }\n",
       "\n",
       "    .dataframe thead th {\n",
       "        text-align: left;\n",
       "    }\n",
       "\n",
       "    .dataframe tbody tr th {\n",
       "        vertical-align: top;\n",
       "    }\n",
       "</style>\n",
       "<table border=\"1\" class=\"dataframe\">\n",
       "  <thead>\n",
       "    <tr style=\"text-align: right;\">\n",
       "      <th></th>\n",
       "      <th>AN_LETIVO</th>\n",
       "      <th>CD_UNIDADE_EDUCACAO</th>\n",
       "      <th>NOME_DISTRITO</th>\n",
       "      <th>CD_SETOR</th>\n",
       "      <th>TIPO_ESCOLA</th>\n",
       "      <th>NOME_ESCOLA</th>\n",
       "      <th>DRE</th>\n",
       "      <th>CD_INEP_ESCOLA</th>\n",
       "      <th>SITUACAO_ESCOLA</th>\n",
       "      <th>CD_TURMA</th>\n",
       "      <th>...</th>\n",
       "      <th>SIT_AL_TRANSF</th>\n",
       "      <th>SIT_AL_FALEC</th>\n",
       "      <th>SIT_AL_NCOM</th>\n",
       "      <th>SIT_AL_EXCL</th>\n",
       "      <th>SIT_AL_CES</th>\n",
       "      <th>SIT_AL_REMAN</th>\n",
       "      <th>SIT_AL_RECLAS</th>\n",
       "      <th>SIT_AL_ATIVO</th>\n",
       "      <th>CD_PARECER_CONCL_FIN</th>\n",
       "      <th>DESC_PARECER_CONCL_FIN</th>\n",
       "    </tr>\n",
       "  </thead>\n",
       "  <tbody>\n",
       "    <tr>\n",
       "      <th>0</th>\n",
       "      <td>2016</td>\n",
       "      <td>306329</td>\n",
       "      <td>VILA GUILHERME</td>\n",
       "      <td>8603</td>\n",
       "      <td>CR.P.CONV</td>\n",
       "      <td>LUIZ BIASI, CON</td>\n",
       "      <td>DIRETORIA REGIONAL DE EDUCACAO JACANA/TREMEMBE</td>\n",
       "      <td>35183362.0</td>\n",
       "      <td>ATIVA</td>\n",
       "      <td>1670560</td>\n",
       "      <td>...</td>\n",
       "      <td>0</td>\n",
       "      <td>0</td>\n",
       "      <td>0</td>\n",
       "      <td>0</td>\n",
       "      <td>0</td>\n",
       "      <td>0</td>\n",
       "      <td>0</td>\n",
       "      <td>0</td>\n",
       "      <td>NaN</td>\n",
       "      <td>NaN</td>\n",
       "    </tr>\n",
       "    <tr>\n",
       "      <th>1</th>\n",
       "      <td>2016</td>\n",
       "      <td>306310</td>\n",
       "      <td>SACOMA</td>\n",
       "      <td>6802</td>\n",
       "      <td>CR.P.CONV</td>\n",
       "      <td>NOSSA SENHORA DAS MERCES</td>\n",
       "      <td>DIRETORIA REGIONAL DE EDUCACAO IPIRANGA</td>\n",
       "      <td>35181183.0</td>\n",
       "      <td>ATIVA</td>\n",
       "      <td>1670600</td>\n",
       "      <td>...</td>\n",
       "      <td>0</td>\n",
       "      <td>0</td>\n",
       "      <td>0</td>\n",
       "      <td>0</td>\n",
       "      <td>0</td>\n",
       "      <td>0</td>\n",
       "      <td>0</td>\n",
       "      <td>0</td>\n",
       "      <td>NaN</td>\n",
       "      <td>NaN</td>\n",
       "    </tr>\n",
       "    <tr>\n",
       "      <th>2</th>\n",
       "      <td>2016</td>\n",
       "      <td>306310</td>\n",
       "      <td>SACOMA</td>\n",
       "      <td>6802</td>\n",
       "      <td>CR.P.CONV</td>\n",
       "      <td>NOSSA SENHORA DAS MERCES</td>\n",
       "      <td>DIRETORIA REGIONAL DE EDUCACAO IPIRANGA</td>\n",
       "      <td>35181183.0</td>\n",
       "      <td>ATIVA</td>\n",
       "      <td>1670603</td>\n",
       "      <td>...</td>\n",
       "      <td>0</td>\n",
       "      <td>0</td>\n",
       "      <td>0</td>\n",
       "      <td>0</td>\n",
       "      <td>0</td>\n",
       "      <td>0</td>\n",
       "      <td>0</td>\n",
       "      <td>0</td>\n",
       "      <td>NaN</td>\n",
       "      <td>NaN</td>\n",
       "    </tr>\n",
       "    <tr>\n",
       "      <th>3</th>\n",
       "      <td>2016</td>\n",
       "      <td>400564</td>\n",
       "      <td>PIRITUBA</td>\n",
       "      <td>6301</td>\n",
       "      <td>CEI DIRET</td>\n",
       "      <td>RAQUEL ZUMBANO ALTMAN</td>\n",
       "      <td>DIRETORIA REGIONAL DE EDUCACAO PIRITUBA/JARAGUA</td>\n",
       "      <td>35129938.0</td>\n",
       "      <td>ATIVA</td>\n",
       "      <td>1670205</td>\n",
       "      <td>...</td>\n",
       "      <td>0</td>\n",
       "      <td>0</td>\n",
       "      <td>0</td>\n",
       "      <td>0</td>\n",
       "      <td>0</td>\n",
       "      <td>0</td>\n",
       "      <td>0</td>\n",
       "      <td>0</td>\n",
       "      <td>NaN</td>\n",
       "      <td>NaN</td>\n",
       "    </tr>\n",
       "    <tr>\n",
       "      <th>4</th>\n",
       "      <td>2016</td>\n",
       "      <td>400686</td>\n",
       "      <td>GRAJAU</td>\n",
       "      <td>3001</td>\n",
       "      <td>CEI INDIR</td>\n",
       "      <td>PARQUE AMERICA</td>\n",
       "      <td>DIRETORIA REGIONAL DE EDUCACAO CAPELA DO SOCORRO</td>\n",
       "      <td>35387332.0</td>\n",
       "      <td>ATIVA</td>\n",
       "      <td>1670268</td>\n",
       "      <td>...</td>\n",
       "      <td>0</td>\n",
       "      <td>0</td>\n",
       "      <td>0</td>\n",
       "      <td>0</td>\n",
       "      <td>0</td>\n",
       "      <td>0</td>\n",
       "      <td>0</td>\n",
       "      <td>0</td>\n",
       "      <td>NaN</td>\n",
       "      <td>NaN</td>\n",
       "    </tr>\n",
       "  </tbody>\n",
       "</table>\n",
       "<p>5 rows × 96 columns</p>\n",
       "</div>"
      ],
      "text/plain": [
       "   AN_LETIVO  CD_UNIDADE_EDUCACAO   NOME_DISTRITO  CD_SETOR   TIPO_ESCOLA  \\\n",
       "0       2016               306329  VILA GUILHERME      8603  CR.P.CONV      \n",
       "1       2016               306310          SACOMA      6802  CR.P.CONV      \n",
       "2       2016               306310          SACOMA      6802  CR.P.CONV      \n",
       "3       2016               400564        PIRITUBA      6301  CEI DIRET      \n",
       "4       2016               400686          GRAJAU      3001  CEI INDIR      \n",
       "\n",
       "                NOME_ESCOLA                                               DRE  \\\n",
       "0           LUIZ BIASI, CON    DIRETORIA REGIONAL DE EDUCACAO JACANA/TREMEMBE   \n",
       "1  NOSSA SENHORA DAS MERCES           DIRETORIA REGIONAL DE EDUCACAO IPIRANGA   \n",
       "2  NOSSA SENHORA DAS MERCES           DIRETORIA REGIONAL DE EDUCACAO IPIRANGA   \n",
       "3     RAQUEL ZUMBANO ALTMAN   DIRETORIA REGIONAL DE EDUCACAO PIRITUBA/JARAGUA   \n",
       "4            PARQUE AMERICA  DIRETORIA REGIONAL DE EDUCACAO CAPELA DO SOCORRO   \n",
       "\n",
       "   CD_INEP_ESCOLA SITUACAO_ESCOLA  CD_TURMA           ...            \\\n",
       "0      35183362.0           ATIVA   1670560           ...             \n",
       "1      35181183.0           ATIVA   1670600           ...             \n",
       "2      35181183.0           ATIVA   1670603           ...             \n",
       "3      35129938.0           ATIVA   1670205           ...             \n",
       "4      35387332.0           ATIVA   1670268           ...             \n",
       "\n",
       "   SIT_AL_TRANSF SIT_AL_FALEC  SIT_AL_NCOM SIT_AL_EXCL SIT_AL_CES  \\\n",
       "0              0            0            0           0          0   \n",
       "1              0            0            0           0          0   \n",
       "2              0            0            0           0          0   \n",
       "3              0            0            0           0          0   \n",
       "4              0            0            0           0          0   \n",
       "\n",
       "  SIT_AL_REMAN SIT_AL_RECLAS SIT_AL_ATIVO  CD_PARECER_CONCL_FIN  \\\n",
       "0            0             0            0                   NaN   \n",
       "1            0             0            0                   NaN   \n",
       "2            0             0            0                   NaN   \n",
       "3            0             0            0                   NaN   \n",
       "4            0             0            0                   NaN   \n",
       "\n",
       "   DESC_PARECER_CONCL_FIN  \n",
       "0                     NaN  \n",
       "1                     NaN  \n",
       "2                     NaN  \n",
       "3                     NaN  \n",
       "4                     NaN  \n",
       "\n",
       "[5 rows x 96 columns]"
      ]
     },
     "execution_count": 4,
     "metadata": {},
     "output_type": "execute_result"
    }
   ],
   "source": [
    "df_2016.head()\n",
    "\n",
    "#Visualiza os 5 primeiros registros da base de dados."
   ]
  },
  {
   "cell_type": "code",
   "execution_count": 5,
   "metadata": {},
   "outputs": [
    {
     "data": {
      "text/plain": [
       "Index(['AN_LETIVO', 'CD_UNIDADE_EDUCACAO', 'NOME_DISTRITO', 'CD_SETOR',\n",
       "       'TIPO_ESCOLA', 'NOME_ESCOLA', 'DRE', 'CD_INEP_ESCOLA',\n",
       "       'SITUACAO_ESCOLA', 'CD_TURMA', 'CD_TURNO', 'DESC_TURNO', 'CD_SERIE',\n",
       "       'DESC_SERIE', 'MODALIDADE', 'MODALIDADE_SEGMENTO', 'TURMA_ESCOL',\n",
       "       'NOME_TURMA', 'HORA_IN_TURMA', 'HORA_FIM_TURMA',\n",
       "       'DESC_PERIODICIDADE_TURMA', 'CD_ETAPA_ENSINO', 'DESC_ETAPA_ENSINO',\n",
       "       'CD_CICLO_ENSINO', 'DESC_CICLO_ENSINO', 'CD_TIPO_TURMA',\n",
       "       'DESC_TIPO_TURMA', 'CD_TIPO_PROGRAMA', 'DESC_TIPO_PROGRAMA',\n",
       "       'DUR_DIA_TURMA', 'DUR_DIA_HORA', 'DUR_DIA_MIN', 'DUR_SEMAN_TURMA',\n",
       "       'DUR_SEM_HORA', 'DUR_SEM_MIN', 'QTD_DIAS_SEMAN_TURMA', 'X_SEMANA',\n",
       "       'SEG', 'TER', 'QUA', 'QUI', 'SEX', 'SAB', 'DOM', 'CD_ALUNO_SME',\n",
       "       'CD_INEP_ALUNO', 'ANO_NASC_ALUNO', 'MES_NASC_ALUNO',\n",
       "       'IDADE_ALUNO_ANO_CIVIL', 'idade_aluno_31_03', 'CD_SEXO', 'CD_RACA_COR',\n",
       "       'DESC_RACA_COR', 'CD_PAIS_NASC', 'DESC_PAIS_NASC', 'CD_MUN_NASC',\n",
       "       'DESC_MUN_NASC', 'DESC_UF_NASC', 'NEE_ALT_HAB', 'DEF_AUTISMO',\n",
       "       'DEF_SURDEZ_LEVE', 'DEF_SURDEZ_SEV', 'DEF_INTELECT', 'DEF_MULTIPLA',\n",
       "       'DEF_CEGUEIRA', 'DEF_BAIXA_VISAO', 'DEF_SURDO_CEG',\n",
       "       'DEF_TRANST_DES_INF', 'DEF_SINDR_ASPER', 'DEF_SINDR_RETT',\n",
       "       'DEF_FIS_N_CADEIR', 'DEF_FIS_CADEIR', 'DEF_N_POSSUI', 'CD_MAT',\n",
       "       'DT_IN_MAT', 'DT_FIM_MAT', 'QTD_DIAS_MATR', 'ANO_IN_MAT', 'MES_IN_MAT',\n",
       "       'SITUACAO_MAT', 'ANO_SIT_MAT', 'MES_SIT_MAT', 'SIT_AL_APROV',\n",
       "       'SIT_AL_REPROV', 'SIT_AL_ABAND', 'SIT_AL_CONCL', 'SIT_AL_TRANSF',\n",
       "       'SIT_AL_FALEC', 'SIT_AL_NCOM', 'SIT_AL_EXCL', 'SIT_AL_CES',\n",
       "       'SIT_AL_REMAN', 'SIT_AL_RECLAS', 'SIT_AL_ATIVO', 'CD_PARECER_CONCL_FIN',\n",
       "       'DESC_PARECER_CONCL_FIN'],\n",
       "      dtype='object')"
      ]
     },
     "execution_count": 5,
     "metadata": {},
     "output_type": "execute_result"
    }
   ],
   "source": [
    "df_2016.columns\n",
    "#Visualiza o nome de cada coluna disponível"
   ]
  },
  {
   "cell_type": "markdown",
   "metadata": {},
   "source": [
    "## Passo 3: Filtrando as colunas desejadas"
   ]
  },
  {
   "cell_type": "markdown",
   "metadata": {},
   "source": [
    "A partir da lista de colunas acima, vamos selecionar algumas colunas interessantes para a análise, tais como raça/cor, sexo, tipo de escola, distrito etc. Lembrando que o [dicionário de váriáveis](http://dados.prefeitura.sp.gov.br/dataset/66218af2-c669-49bc-842c-df8fcc6364ca/resource/a59b705b-febc-4968-b406-360d4a163747/download/dicionariovariaveismicrodadosmatriculasago2017.xlsx) está disponível no Portal de Dados Abertos. "
   ]
  },
  {
   "cell_type": "code",
   "execution_count": 32,
   "metadata": {},
   "outputs": [],
   "source": [
    "nacionalidades = df_2016[['AN_LETIVO', 'CD_ALUNO_SME', 'DESC_RACA_COR', 'CD_SEXO', 'ANO_NASC_ALUNO', 'MES_NASC_ALUNO', 'TIPO_ESCOLA', 'DRE', 'NOME_DISTRITO', 'TURMA_ESCOL', 'MODALIDADE_SEGMENTO', 'DESC_SERIE', 'DESC_PAIS_NASC', 'SITUACAO_MAT']]"
   ]
  },
  {
   "cell_type": "markdown",
   "metadata": {},
   "source": [
    "Aqui, vamos filtrar apenas os estudantes estrangeiros matriculados na rede. Vamos aplicar três filtros: na coluna que descreve a nacionalidade, vamos selecionar tudo o que é diferente de \"Brasil\". Também vamos adicionar um filtro na coluna \"Turma_Escol\", que separa o que é turma de atividades complementares das turmas regulares; e, por fim, filtrar apenas estudantes com status 'Concluido' na Situação de Matrícula (exclui transferidos, desistentes...)"
   ]
  },
  {
   "cell_type": "code",
   "execution_count": 33,
   "metadata": {},
   "outputs": [],
   "source": [
    "estrangeiros = nacionalidades[(nacionalidades['DESC_PAIS_NASC'] != 'BRASIL') \n",
    "                              & (nacionalidades['TURMA_ESCOL'] == 'S')\n",
    "                             & (nacionalidades['SITUACAO_MAT'] == 'Concluido')]"
   ]
  },
  {
   "cell_type": "code",
   "execution_count": 34,
   "metadata": {},
   "outputs": [
    {
     "data": {
      "text/html": [
       "<div>\n",
       "<style>\n",
       "    .dataframe thead tr:only-child th {\n",
       "        text-align: right;\n",
       "    }\n",
       "\n",
       "    .dataframe thead th {\n",
       "        text-align: left;\n",
       "    }\n",
       "\n",
       "    .dataframe tbody tr th {\n",
       "        vertical-align: top;\n",
       "    }\n",
       "</style>\n",
       "<table border=\"1\" class=\"dataframe\">\n",
       "  <thead>\n",
       "    <tr style=\"text-align: right;\">\n",
       "      <th></th>\n",
       "      <th>AN_LETIVO</th>\n",
       "      <th>CD_ALUNO_SME</th>\n",
       "      <th>DESC_RACA_COR</th>\n",
       "      <th>CD_SEXO</th>\n",
       "      <th>ANO_NASC_ALUNO</th>\n",
       "      <th>MES_NASC_ALUNO</th>\n",
       "      <th>TIPO_ESCOLA</th>\n",
       "      <th>DRE</th>\n",
       "      <th>NOME_DISTRITO</th>\n",
       "      <th>TURMA_ESCOL</th>\n",
       "      <th>MODALIDADE_SEGMENTO</th>\n",
       "      <th>DESC_SERIE</th>\n",
       "      <th>DESC_PAIS_NASC</th>\n",
       "      <th>SITUACAO_MAT</th>\n",
       "    </tr>\n",
       "  </thead>\n",
       "  <tbody>\n",
       "    <tr>\n",
       "      <th>11</th>\n",
       "      <td>2016</td>\n",
       "      <td>6261502</td>\n",
       "      <td>NAO DECLARADA</td>\n",
       "      <td>F</td>\n",
       "      <td>2012.0</td>\n",
       "      <td>7.0</td>\n",
       "      <td>CR.P.CONV</td>\n",
       "      <td>DIRETORIA REGIONAL DE EDUCACAO BUTANTA</td>\n",
       "      <td>BUTANTA</td>\n",
       "      <td>S</td>\n",
       "      <td>CRECHE</td>\n",
       "      <td>MINI GRUPO II</td>\n",
       "      <td>INDIA</td>\n",
       "      <td>Concluido</td>\n",
       "    </tr>\n",
       "    <tr>\n",
       "      <th>94</th>\n",
       "      <td>2016</td>\n",
       "      <td>6448463</td>\n",
       "      <td>NAO DECLARADA</td>\n",
       "      <td>F</td>\n",
       "      <td>2015.0</td>\n",
       "      <td>7.0</td>\n",
       "      <td>CR.P.CONV</td>\n",
       "      <td>DIRETORIA REGIONAL DE EDUCACAO PIRITUBA/JARAGUA</td>\n",
       "      <td>PIRITUBA</td>\n",
       "      <td>S</td>\n",
       "      <td>CRECHE</td>\n",
       "      <td>BERCARIO I</td>\n",
       "      <td>BOLIVIA</td>\n",
       "      <td>Concluido</td>\n",
       "    </tr>\n",
       "    <tr>\n",
       "      <th>251</th>\n",
       "      <td>2016</td>\n",
       "      <td>6296484</td>\n",
       "      <td>NAO DECLARADA</td>\n",
       "      <td>M</td>\n",
       "      <td>2000.0</td>\n",
       "      <td>1.0</td>\n",
       "      <td>EMEF</td>\n",
       "      <td>DIRETORIA REGIONAL DE EDUCACAO BUTANTA</td>\n",
       "      <td>RIO PEQUENO</td>\n",
       "      <td>S</td>\n",
       "      <td>EJA5A8</td>\n",
       "      <td>EJA FINAL I</td>\n",
       "      <td>NaN</td>\n",
       "      <td>Concluido</td>\n",
       "    </tr>\n",
       "    <tr>\n",
       "      <th>385</th>\n",
       "      <td>2016</td>\n",
       "      <td>5782857</td>\n",
       "      <td>NAO DECLARADA</td>\n",
       "      <td>F</td>\n",
       "      <td>1956.0</td>\n",
       "      <td>6.0</td>\n",
       "      <td>EMEF</td>\n",
       "      <td>DIRETORIA REGIONAL DE EDUCACAO SANTO AMARO</td>\n",
       "      <td>JABAQUARA</td>\n",
       "      <td>S</td>\n",
       "      <td>EJA5A8</td>\n",
       "      <td>EJA FINAL I</td>\n",
       "      <td>NaN</td>\n",
       "      <td>Concluido</td>\n",
       "    </tr>\n",
       "    <tr>\n",
       "      <th>407</th>\n",
       "      <td>2016</td>\n",
       "      <td>6272425</td>\n",
       "      <td>NAO DECLARADA</td>\n",
       "      <td>F</td>\n",
       "      <td>1986.0</td>\n",
       "      <td>5.0</td>\n",
       "      <td>EMEF</td>\n",
       "      <td>DIRETORIA REGIONAL DE EDUCACAO SAO MATEUS</td>\n",
       "      <td>SAPOPEMBA</td>\n",
       "      <td>S</td>\n",
       "      <td>EJA5A8</td>\n",
       "      <td>EJA FINAL II</td>\n",
       "      <td>NaN</td>\n",
       "      <td>Concluido</td>\n",
       "    </tr>\n",
       "  </tbody>\n",
       "</table>\n",
       "</div>"
      ],
      "text/plain": [
       "     AN_LETIVO  CD_ALUNO_SME  DESC_RACA_COR CD_SEXO  ANO_NASC_ALUNO  \\\n",
       "11        2016       6261502  NAO DECLARADA       F          2012.0   \n",
       "94        2016       6448463  NAO DECLARADA       F          2015.0   \n",
       "251       2016       6296484  NAO DECLARADA       M          2000.0   \n",
       "385       2016       5782857  NAO DECLARADA       F          1956.0   \n",
       "407       2016       6272425  NAO DECLARADA       F          1986.0   \n",
       "\n",
       "     MES_NASC_ALUNO   TIPO_ESCOLA  \\\n",
       "11              7.0  CR.P.CONV      \n",
       "94              7.0  CR.P.CONV      \n",
       "251             1.0  EMEF           \n",
       "385             6.0  EMEF           \n",
       "407             5.0  EMEF           \n",
       "\n",
       "                                                 DRE NOME_DISTRITO  \\\n",
       "11            DIRETORIA REGIONAL DE EDUCACAO BUTANTA       BUTANTA   \n",
       "94   DIRETORIA REGIONAL DE EDUCACAO PIRITUBA/JARAGUA      PIRITUBA   \n",
       "251           DIRETORIA REGIONAL DE EDUCACAO BUTANTA   RIO PEQUENO   \n",
       "385       DIRETORIA REGIONAL DE EDUCACAO SANTO AMARO     JABAQUARA   \n",
       "407        DIRETORIA REGIONAL DE EDUCACAO SAO MATEUS     SAPOPEMBA   \n",
       "\n",
       "    TURMA_ESCOL MODALIDADE_SEGMENTO     DESC_SERIE DESC_PAIS_NASC SITUACAO_MAT  \n",
       "11            S              CRECHE  MINI GRUPO II          INDIA    Concluido  \n",
       "94            S              CRECHE     BERCARIO I        BOLIVIA    Concluido  \n",
       "251           S              EJA5A8    EJA FINAL I            NaN    Concluido  \n",
       "385           S              EJA5A8    EJA FINAL I            NaN    Concluido  \n",
       "407           S              EJA5A8   EJA FINAL II            NaN    Concluido  "
      ]
     },
     "execution_count": 34,
     "metadata": {},
     "output_type": "execute_result"
    }
   ],
   "source": [
    "estrangeiros.head()\n",
    "#Visualiza como ficou!"
   ]
  },
  {
   "cell_type": "markdown",
   "metadata": {},
   "source": [
    "## Passo 4: Limpando a base"
   ]
  },
  {
   "cell_type": "code",
   "execution_count": 24,
   "metadata": {},
   "outputs": [
    {
     "data": {
      "text/plain": [
       "(7992, 12)"
      ]
     },
     "execution_count": 24,
     "metadata": {},
     "output_type": "execute_result"
    }
   ],
   "source": [
    "estrangeiros.shape"
   ]
  },
  {
   "cell_type": "markdown",
   "metadata": {},
   "source": [
    "O código acima indica que a base resultante tem 7.992 registros. Mas será que isso significa que há essa quantidade de estrangeiros? Repare que na coluna de Nacionalidade há alguns valores que aparecem como \"Nan\". Isso significa que a Nacionalidade não foi cadastrada na escola, por qualquer motivo. É importante saber dessa condição, mas vamos limpar a base para seguir a análise com os dados disponíveis, excluindo as linhas que possuem \"Nan\":"
   ]
  },
  {
   "cell_type": "code",
   "execution_count": 25,
   "metadata": {
    "collapsed": true
   },
   "outputs": [],
   "source": [
    "estrangeiros_decl = estrangeiros.dropna(how='any', subset=['DESC_PAIS_NASC'])"
   ]
  },
  {
   "cell_type": "code",
   "execution_count": 41,
   "metadata": {},
   "outputs": [
    {
     "data": {
      "text/plain": [
       "(4570, 12)"
      ]
     },
     "execution_count": 41,
     "metadata": {},
     "output_type": "execute_result"
    }
   ],
   "source": [
    "estrangeiros_decl.shape"
   ]
  },
  {
   "cell_type": "markdown",
   "metadata": {},
   "source": [
    "Com isso, passamos a 4.570 registros. Já filtramos o status 'Concluido', o que já reduz bastante os casos de duplicatas (alunos com mais de um tipo de status - por exemplo, por transferência). Mas vamos aplicar o código abaixo para eliminar casos remanescentes:"
   ]
  },
  {
   "cell_type": "code",
   "execution_count": 42,
   "metadata": {
    "collapsed": true
   },
   "outputs": [],
   "source": [
    "estrangeiros_limp = estrangeiros_decl.drop_duplicates('CD_ALUNO_SME')"
   ]
  },
  {
   "cell_type": "code",
   "execution_count": 43,
   "metadata": {},
   "outputs": [
    {
     "data": {
      "text/plain": [
       "(4494, 12)"
      ]
     },
     "execution_count": 43,
     "metadata": {},
     "output_type": "execute_result"
    }
   ],
   "source": [
    "estrangeiros_limp.shape"
   ]
  },
  {
   "cell_type": "markdown",
   "metadata": {},
   "source": [
    "De fato, restaram 4.494 estudantes 'únicos' que não estão cadastrados com País de Nascimento \"Brasil\" e que possuem um outro País declarado."
   ]
  },
  {
   "cell_type": "markdown",
   "metadata": {},
   "source": [
    "## Passo 5: Algumas análises"
   ]
  },
  {
   "cell_type": "markdown",
   "metadata": {},
   "source": [
    "Com a base pronta, é possível realizar análises, tais como ordenar, agrupar e fazer gráficos. Por exemplo, ordenar por modalidade/segmento de ensino:"
   ]
  },
  {
   "cell_type": "code",
   "execution_count": 45,
   "metadata": {},
   "outputs": [
    {
     "data": {
      "text/plain": [
       "MODALIDADE_SEGMENTO\n",
       "CONVEE       1\n",
       "CRECHE     733\n",
       "EDPROF      11\n",
       "EJA1A4      80\n",
       "EJA5A8     162\n",
       "Fund1     1505\n",
       "Fund2      818\n",
       "MEDIO        9\n",
       "MOVA        52\n",
       "PRE       1123\n",
       "Name: CD_ALUNO_SME, dtype: int64"
      ]
     },
     "execution_count": 45,
     "metadata": {},
     "output_type": "execute_result"
    }
   ],
   "source": [
    "estrangeiros_limp.groupby('MODALIDADE_SEGMENTO').CD_ALUNO_SME.count()"
   ]
  },
  {
   "cell_type": "markdown",
   "metadata": {},
   "source": [
    "Agrupar por nacionalidade e ordenar pelas nacionalidade mais frequentes:"
   ]
  },
  {
   "cell_type": "code",
   "execution_count": 57,
   "metadata": {
    "collapsed": true
   },
   "outputs": [],
   "source": [
    "por_nac = pd.pivot_table(estrangeiros_limp, values='CD_ALUNO_SME', \n",
    "                         index=['DESC_PAIS_NASC'],\n",
    "                         aggfunc=np.count_nonzero).sort_values(by='CD_ALUNO_SME', ascending=False)"
   ]
  },
  {
   "cell_type": "code",
   "execution_count": 71,
   "metadata": {
    "scrolled": true
   },
   "outputs": [
    {
     "data": {
      "text/html": [
       "<div>\n",
       "<style>\n",
       "    .dataframe thead tr:only-child th {\n",
       "        text-align: right;\n",
       "    }\n",
       "\n",
       "    .dataframe thead th {\n",
       "        text-align: left;\n",
       "    }\n",
       "\n",
       "    .dataframe tbody tr th {\n",
       "        vertical-align: top;\n",
       "    }\n",
       "</style>\n",
       "<table border=\"1\" class=\"dataframe\">\n",
       "  <thead>\n",
       "    <tr style=\"text-align: right;\">\n",
       "      <th></th>\n",
       "      <th>CD_ALUNO_SME</th>\n",
       "    </tr>\n",
       "    <tr>\n",
       "      <th>DESC_PAIS_NASC</th>\n",
       "      <th></th>\n",
       "    </tr>\n",
       "  </thead>\n",
       "  <tbody>\n",
       "    <tr>\n",
       "      <th>BOLIVIA</th>\n",
       "      <td>2514</td>\n",
       "    </tr>\n",
       "    <tr>\n",
       "      <th>ANGOLA</th>\n",
       "      <td>538</td>\n",
       "    </tr>\n",
       "    <tr>\n",
       "      <th>REPUBLICA DO HAITI</th>\n",
       "      <td>239</td>\n",
       "    </tr>\n",
       "    <tr>\n",
       "      <th>JAPAO</th>\n",
       "      <td>215</td>\n",
       "    </tr>\n",
       "    <tr>\n",
       "      <th>PARAGUAI</th>\n",
       "      <td>132</td>\n",
       "    </tr>\n",
       "    <tr>\n",
       "      <th>PERU</th>\n",
       "      <td>122</td>\n",
       "    </tr>\n",
       "    <tr>\n",
       "      <th>ARGENTINA</th>\n",
       "      <td>111</td>\n",
       "    </tr>\n",
       "    <tr>\n",
       "      <th>CONGO</th>\n",
       "      <td>83</td>\n",
       "    </tr>\n",
       "    <tr>\n",
       "      <th>COLOMBIA</th>\n",
       "      <td>63</td>\n",
       "    </tr>\n",
       "    <tr>\n",
       "      <th>PORTUGAL</th>\n",
       "      <td>46</td>\n",
       "    </tr>\n",
       "    <tr>\n",
       "      <th>SIRIA</th>\n",
       "      <td>44</td>\n",
       "    </tr>\n",
       "    <tr>\n",
       "      <th>NIGERIA</th>\n",
       "      <td>42</td>\n",
       "    </tr>\n",
       "    <tr>\n",
       "      <th>ESPANHA</th>\n",
       "      <td>38</td>\n",
       "    </tr>\n",
       "    <tr>\n",
       "      <th>ESTADOS UNIDOS DA AMERICA (EUA)</th>\n",
       "      <td>36</td>\n",
       "    </tr>\n",
       "    <tr>\n",
       "      <th>OUTRA NACIONALIDADE</th>\n",
       "      <td>32</td>\n",
       "    </tr>\n",
       "  </tbody>\n",
       "</table>\n",
       "</div>"
      ],
      "text/plain": [
       "                                 CD_ALUNO_SME\n",
       "DESC_PAIS_NASC                               \n",
       "BOLIVIA                                  2514\n",
       "ANGOLA                                    538\n",
       "REPUBLICA DO HAITI                        239\n",
       "JAPAO                                     215\n",
       "PARAGUAI                                  132\n",
       "PERU                                      122\n",
       "ARGENTINA                                 111\n",
       "CONGO                                      83\n",
       "COLOMBIA                                   63\n",
       "PORTUGAL                                   46\n",
       "SIRIA                                      44\n",
       "NIGERIA                                    42\n",
       "ESPANHA                                    38\n",
       "ESTADOS UNIDOS DA AMERICA (EUA)            36\n",
       "OUTRA NACIONALIDADE                        32"
      ]
     },
     "execution_count": 71,
     "metadata": {},
     "output_type": "execute_result"
    }
   ],
   "source": [
    "por_nac.head(15)\n",
    "#Visualiza as 15 nacionalidades mais frequentes"
   ]
  },
  {
   "cell_type": "markdown",
   "metadata": {},
   "source": [
    "Agrupando por Diretoria Regional de Educação:"
   ]
  },
  {
   "cell_type": "code",
   "execution_count": 91,
   "metadata": {},
   "outputs": [],
   "source": [
    "por_DRE = pd.pivot_table(estrangeiros_limp, values='CD_ALUNO_SME', \n",
    "                         index='DRE',\n",
    "                         aggfunc=np.count_nonzero).sort_values(by='CD_ALUNO_SME', ascending=False)"
   ]
  },
  {
   "cell_type": "code",
   "execution_count": 92,
   "metadata": {},
   "outputs": [
    {
     "data": {
      "text/html": [
       "<div>\n",
       "<style>\n",
       "    .dataframe thead tr:only-child th {\n",
       "        text-align: right;\n",
       "    }\n",
       "\n",
       "    .dataframe thead th {\n",
       "        text-align: left;\n",
       "    }\n",
       "\n",
       "    .dataframe tbody tr th {\n",
       "        vertical-align: top;\n",
       "    }\n",
       "</style>\n",
       "<table border=\"1\" class=\"dataframe\">\n",
       "  <thead>\n",
       "    <tr style=\"text-align: right;\">\n",
       "      <th></th>\n",
       "      <th>CD_ALUNO_SME</th>\n",
       "    </tr>\n",
       "    <tr>\n",
       "      <th>DRE</th>\n",
       "      <th></th>\n",
       "    </tr>\n",
       "  </thead>\n",
       "  <tbody>\n",
       "    <tr>\n",
       "      <th>DIRETORIA REGIONAL DE EDUCACAO PENHA</th>\n",
       "      <td>1099</td>\n",
       "    </tr>\n",
       "    <tr>\n",
       "      <th>DIRETORIA REGIONAL DE EDUCACAO JACANA/TREMEMBE</th>\n",
       "      <td>937</td>\n",
       "    </tr>\n",
       "    <tr>\n",
       "      <th>DIRETORIA REGIONAL DE EDUCACAO FREGUESIA/BRASILANDIA</th>\n",
       "      <td>444</td>\n",
       "    </tr>\n",
       "    <tr>\n",
       "      <th>DIRETORIA REGIONAL DE EDUCACAO IPIRANGA</th>\n",
       "      <td>433</td>\n",
       "    </tr>\n",
       "    <tr>\n",
       "      <th>DIRETORIA REGIONAL DE EDUCACAO ITAQUERA</th>\n",
       "      <td>404</td>\n",
       "    </tr>\n",
       "    <tr>\n",
       "      <th>DIRETORIA REGIONAL DE EDUCACAO SAO MIGUEL</th>\n",
       "      <td>243</td>\n",
       "    </tr>\n",
       "    <tr>\n",
       "      <th>DIRETORIA REGIONAL DE EDUCACAO GUAIANASES</th>\n",
       "      <td>216</td>\n",
       "    </tr>\n",
       "    <tr>\n",
       "      <th>DIRETORIA REGIONAL DE EDUCACAO PIRITUBA/JARAGUA</th>\n",
       "      <td>211</td>\n",
       "    </tr>\n",
       "    <tr>\n",
       "      <th>DIRETORIA REGIONAL DE EDUCACAO SAO MATEUS</th>\n",
       "      <td>166</td>\n",
       "    </tr>\n",
       "    <tr>\n",
       "      <th>DIRETORIA REGIONAL DE EDUCACAO CAMPO LIMPO</th>\n",
       "      <td>133</td>\n",
       "    </tr>\n",
       "    <tr>\n",
       "      <th>DIRETORIA REGIONAL DE EDUCACAO BUTANTA</th>\n",
       "      <td>85</td>\n",
       "    </tr>\n",
       "    <tr>\n",
       "      <th>DIRETORIA REGIONAL DE EDUCACAO CAPELA DO SOCORRO</th>\n",
       "      <td>72</td>\n",
       "    </tr>\n",
       "    <tr>\n",
       "      <th>DIRETORIA REGIONAL DE EDUCACAO SANTO AMARO</th>\n",
       "      <td>51</td>\n",
       "    </tr>\n",
       "  </tbody>\n",
       "</table>\n",
       "</div>"
      ],
      "text/plain": [
       "                                                    CD_ALUNO_SME\n",
       "DRE                                                             \n",
       "DIRETORIA REGIONAL DE EDUCACAO PENHA                        1099\n",
       "DIRETORIA REGIONAL DE EDUCACAO JACANA/TREMEMBE               937\n",
       "DIRETORIA REGIONAL DE EDUCACAO FREGUESIA/BRASIL...           444\n",
       "DIRETORIA REGIONAL DE EDUCACAO IPIRANGA                      433\n",
       "DIRETORIA REGIONAL DE EDUCACAO ITAQUERA                      404\n",
       "DIRETORIA REGIONAL DE EDUCACAO SAO MIGUEL                    243\n",
       "DIRETORIA REGIONAL DE EDUCACAO GUAIANASES                    216\n",
       "DIRETORIA REGIONAL DE EDUCACAO PIRITUBA/JARAGUA              211\n",
       "DIRETORIA REGIONAL DE EDUCACAO SAO MATEUS                    166\n",
       "DIRETORIA REGIONAL DE EDUCACAO CAMPO LIMPO                   133\n",
       "DIRETORIA REGIONAL DE EDUCACAO BUTANTA                        85\n",
       "DIRETORIA REGIONAL DE EDUCACAO CAPELA DO SOCORRO              72\n",
       "DIRETORIA REGIONAL DE EDUCACAO SANTO AMARO                    51"
      ]
     },
     "execution_count": 92,
     "metadata": {},
     "output_type": "execute_result"
    }
   ],
   "source": [
    "por_DRE"
   ]
  },
  {
   "cell_type": "markdown",
   "metadata": {},
   "source": [
    "Aplicando a função ProfileReport da bibliote Pandas Profiling para um relatório completo da base"
   ]
  },
  {
   "cell_type": "code",
   "execution_count": null,
   "metadata": {},
   "outputs": [],
   "source": [
    "pp.ProfileReport(estrangeiros_limp)"
   ]
  },
  {
   "cell_type": "markdown",
   "metadata": {},
   "source": [
    "## Passo 6: Exportando para Excel ou CSV"
   ]
  },
  {
   "cell_type": "markdown",
   "metadata": {},
   "source": [
    "Depois de trabalhar a base, você pode querer exportá-la para o Excel ou outro programa. Os códigos abaixo realizam essa operação:"
   ]
  },
  {
   "cell_type": "code",
   "execution_count": 95,
   "metadata": {},
   "outputs": [],
   "source": [
    "estrangeiros_limp.to_csv('estrangeiros_2016.csv', index=False)"
   ]
  },
  {
   "cell_type": "code",
   "execution_count": 96,
   "metadata": {
    "collapsed": true
   },
   "outputs": [],
   "source": [
    "estrangeiros_limp.to_excel('estrangeiros_2016.xls', index=False)"
   ]
  },
  {
   "cell_type": "markdown",
   "metadata": {},
   "source": [
    "Pronto! Estão salvos no mesmo diretório em que este arquivo de tutorial está. "
   ]
  }
 ],
 "metadata": {
  "kernelspec": {
   "display_name": "Python 3",
   "language": "python",
   "name": "python3"
  },
  "language_info": {
   "codemirror_mode": {
    "name": "ipython",
    "version": 3
   },
   "file_extension": ".py",
   "mimetype": "text/x-python",
   "name": "python",
   "nbconvert_exporter": "python",
   "pygments_lexer": "ipython3",
   "version": "3.6.5"
  }
 },
 "nbformat": 4,
 "nbformat_minor": 2
}
